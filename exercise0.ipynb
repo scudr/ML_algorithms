{
 "cells": [
  {
   "attachments": {},
   "cell_type": "markdown",
   "metadata": {},
   "source": [
    "Write a Python function to connect to a SQL database and perform a simple query, such as selecting the top 10 rows from a table. Use a library like psycopg2 or sqlite3."
   ]
  },
  {
   "cell_type": "code",
   "execution_count": 36,
   "metadata": {},
   "outputs": [],
   "source": [
    "import sqlite3\n",
    "from sqlite3 import Error\n",
    "import pandas as pd"
   ]
  },
  {
   "cell_type": "code",
   "execution_count": 2,
   "metadata": {},
   "outputs": [],
   "source": [
    "def create_connection():\n",
    "    conn =None;\n",
    "    try:\n",
    "        conn = sqlite3.connect('chinook.db')\n",
    "        print('Connection to SQLite DB successful')\n",
    "    except Error as e:\n",
    "        print(f\"The error '{e}' occurred\")\n",
    "\n",
    "    return conn\n",
    "        "
   ]
  },
  {
   "cell_type": "code",
   "execution_count": 3,
   "metadata": {},
   "outputs": [],
   "source": [
    "def select_top_rows(conn, table_name, num_rows=10):\n",
    "    cursor = conn.cursor()\n",
    "    cursor.execute(f\"SELECT * FROM '{table_name}' LIMIT '{num_rows}'\")\n",
    "    rows = cursor.fetchall()\n",
    "\n",
    "    for row in rows:\n",
    "        print(row)\n"
   ]
  },
  {
   "cell_type": "code",
   "execution_count": 4,
   "metadata": {},
   "outputs": [],
   "source": [
    "def list_all_tables(conn):\n",
    "    cursor = conn.cursor()\n",
    "    cursor.execute(\"SELECT name FROM sqlite_master WHERE type='table';\")\n",
    "    print(cursor.fetchall())"
   ]
  },
  {
   "cell_type": "code",
   "execution_count": 23,
   "metadata": {},
   "outputs": [],
   "source": [
    "def get_employees_by_title(conn, title):\n",
    "    cursor = conn.cursor()\n",
    "    cursor.execute(\"SELECT * FROM Employees WHERE Title = ?\", (title,))\n",
    "    rows = cursor.fetchall()\n",
    "\n",
    "    for row in rows:\n",
    "        print(row)"
   ]
  },
  {
   "cell_type": "code",
   "execution_count": 34,
   "metadata": {},
   "outputs": [],
   "source": [
    "def get_employees(conn, table_name):\n",
    "    cursor = conn.cursor()\n",
    "    cursor.execute(f\"SELECT * FROM '{table_name}'\")\n",
    "    rows = cursor.fetchall()\n",
    "    return rows"
   ]
  },
  {
   "cell_type": "code",
   "execution_count": 37,
   "metadata": {},
   "outputs": [],
   "source": [
    "def get_employees_v2(conn, table_name):\n",
    "    df = pd.read_sql_query(f\"SELECT * FROM {table_name}\", conn)\n",
    "    return df"
   ]
  },
  {
   "cell_type": "code",
   "execution_count": 39,
   "metadata": {},
   "outputs": [],
   "source": [
    "def get_employees_v3(conn, table_name):\n",
    "    cursor = conn.cursor()\n",
    "    cursor.execute(f\"SELECT * FROM '{table_name}'\")\n",
    "    rows = cursor.fetchall()\n",
    "    column_names = [description[0] for description in cursor.description]\n",
    "    return column_names, rows"
   ]
  },
  {
   "cell_type": "code",
   "execution_count": 32,
   "metadata": {},
   "outputs": [],
   "source": [
    "def get_records_count(conn, table_name):\n",
    "    cursor = conn.cursor()\n",
    "    cursor.execute(f\"SELECT COUNT(*) AS number_employees FROM '{table_name}'\")\n",
    "    rows = cursor.fetchall()\n",
    "    return rows"
   ]
  },
  {
   "cell_type": "code",
   "execution_count": 24,
   "metadata": {},
   "outputs": [
    {
     "name": "stdout",
     "output_type": "stream",
     "text": [
      "Connection to SQLite DB successful\n",
      "(1, 'For Those About To Rock We Salute You', 1)\n",
      "(2, 'Balls to the Wall', 2)\n",
      "(3, 'Restless and Wild', 2)\n",
      "(4, 'Let There Be Rock', 1)\n",
      "(5, 'Big Ones', 3)\n",
      "(6, 'Jagged Little Pill', 4)\n",
      "(7, 'Facelift', 5)\n",
      "(8, 'Warner 25 Anos', 6)\n",
      "(9, 'Plays Metallica By Four Cellos', 7)\n",
      "(10, 'Audioslave', 8)\n"
     ]
    }
   ],
   "source": [
    "conn = create_connection()\n",
    "if conn is not None:\n",
    "    select_top_rows(conn,\"Albums\",10)\n",
    "    #list_all_tables(conn)"
   ]
  },
  {
   "cell_type": "code",
   "execution_count": 35,
   "metadata": {},
   "outputs": [
    {
     "name": "stdout",
     "output_type": "stream",
     "text": [
      "(3, 'Peacock', 'Jane', 'Sales Support Agent', 2, '1973-08-29 00:00:00', '2002-04-01 00:00:00', '1111 6 Ave SW', 'Calgary', 'AB', 'Canada', 'T2P 5M5', '+1 (403) 262-3443', '+1 (403) 262-6712', 'jane@chinookcorp.com')\n",
      "(4, 'Park', 'Margaret', 'Sales Support Agent', 2, '1947-09-19 00:00:00', '2003-05-03 00:00:00', '683 10 Street SW', 'Calgary', 'AB', 'Canada', 'T2P 5G3', '+1 (403) 263-4423', '+1 (403) 263-4289', 'margaret@chinookcorp.com')\n",
      "(5, 'Johnson', 'Steve', 'Sales Support Agent', 2, '1965-03-03 00:00:00', '2003-10-17 00:00:00', '7727B 41 Ave', 'Calgary', 'AB', 'Canada', 'T3B 1Y7', '1 (780) 836-9987', '1 (780) 836-9543', 'steve@chinookcorp.com')\n"
     ]
    }
   ],
   "source": [
    "## get employees by city\n",
    "rows = get_employees_by_title(conn, 'Sales Support Agent')\n"
   ]
  },
  {
   "cell_type": "code",
   "execution_count": 31,
   "metadata": {},
   "outputs": [
    {
     "name": "stdout",
     "output_type": "stream",
     "text": [
      "[(1, 'Adams', 'Andrew', 'General Manager', None, '1962-02-18 00:00:00', '2002-08-14 00:00:00', '11120 Jasper Ave NW', 'Edmonton', 'AB', 'Canada', 'T5K 2N1', '+1 (780) 428-9482', '+1 (780) 428-3457', 'andrew@chinookcorp.com'), (2, 'Edwards', 'Nancy', 'Sales Manager', 1, '1958-12-08 00:00:00', '2002-05-01 00:00:00', '825 8 Ave SW', 'Calgary', 'AB', 'Canada', 'T2P 2T3', '+1 (403) 262-3443', '+1 (403) 262-3322', 'nancy@chinookcorp.com'), (3, 'Peacock', 'Jane', 'Sales Support Agent', 2, '1973-08-29 00:00:00', '2002-04-01 00:00:00', '1111 6 Ave SW', 'Calgary', 'AB', 'Canada', 'T2P 5M5', '+1 (403) 262-3443', '+1 (403) 262-6712', 'jane@chinookcorp.com'), (4, 'Park', 'Margaret', 'Sales Support Agent', 2, '1947-09-19 00:00:00', '2003-05-03 00:00:00', '683 10 Street SW', 'Calgary', 'AB', 'Canada', 'T2P 5G3', '+1 (403) 263-4423', '+1 (403) 263-4289', 'margaret@chinookcorp.com'), (5, 'Johnson', 'Steve', 'Sales Support Agent', 2, '1965-03-03 00:00:00', '2003-10-17 00:00:00', '7727B 41 Ave', 'Calgary', 'AB', 'Canada', 'T3B 1Y7', '1 (780) 836-9987', '1 (780) 836-9543', 'steve@chinookcorp.com'), (6, 'Mitchell', 'Michael', 'IT Manager', 1, '1973-07-01 00:00:00', '2003-10-17 00:00:00', '5827 Bowness Road NW', 'Calgary', 'AB', 'Canada', 'T3B 0C5', '+1 (403) 246-9887', '+1 (403) 246-9899', 'michael@chinookcorp.com'), (7, 'King', 'Robert', 'IT Staff', 6, '1970-05-29 00:00:00', '2004-01-02 00:00:00', '590 Columbia Boulevard West', 'Lethbridge', 'AB', 'Canada', 'T1K 5N8', '+1 (403) 456-9986', '+1 (403) 456-8485', 'robert@chinookcorp.com'), (8, 'Callahan', 'Laura', 'IT Staff', 6, '1968-01-09 00:00:00', '2004-03-04 00:00:00', '923 7 ST NW', 'Lethbridge', 'AB', 'Canada', 'T1H 1Y8', '+1 (403) 467-3351', '+1 (403) 467-8772', 'laura@chinookcorp.com')]\n"
     ]
    }
   ],
   "source": [
    "get_employees(conn,'Employees')"
   ]
  },
  {
   "cell_type": "code",
   "execution_count": 38,
   "metadata": {},
   "outputs": [
    {
     "name": "stdout",
     "output_type": "stream",
     "text": [
      "   EmployeeId  LastName FirstName                Title  ReportsTo  \\\n",
      "0           1     Adams    Andrew      General Manager        NaN   \n",
      "1           2   Edwards     Nancy        Sales Manager        1.0   \n",
      "2           3   Peacock      Jane  Sales Support Agent        2.0   \n",
      "3           4      Park  Margaret  Sales Support Agent        2.0   \n",
      "4           5   Johnson     Steve  Sales Support Agent        2.0   \n",
      "5           6  Mitchell   Michael           IT Manager        1.0   \n",
      "6           7      King    Robert             IT Staff        6.0   \n",
      "7           8  Callahan     Laura             IT Staff        6.0   \n",
      "\n",
      "             BirthDate             HireDate                      Address  \\\n",
      "0  1962-02-18 00:00:00  2002-08-14 00:00:00          11120 Jasper Ave NW   \n",
      "1  1958-12-08 00:00:00  2002-05-01 00:00:00                 825 8 Ave SW   \n",
      "2  1973-08-29 00:00:00  2002-04-01 00:00:00                1111 6 Ave SW   \n",
      "3  1947-09-19 00:00:00  2003-05-03 00:00:00             683 10 Street SW   \n",
      "4  1965-03-03 00:00:00  2003-10-17 00:00:00                 7727B 41 Ave   \n",
      "5  1973-07-01 00:00:00  2003-10-17 00:00:00         5827 Bowness Road NW   \n",
      "6  1970-05-29 00:00:00  2004-01-02 00:00:00  590 Columbia Boulevard West   \n",
      "7  1968-01-09 00:00:00  2004-03-04 00:00:00                  923 7 ST NW   \n",
      "\n",
      "         City State Country PostalCode              Phone                Fax  \\\n",
      "0    Edmonton    AB  Canada    T5K 2N1  +1 (780) 428-9482  +1 (780) 428-3457   \n",
      "1     Calgary    AB  Canada    T2P 2T3  +1 (403) 262-3443  +1 (403) 262-3322   \n",
      "2     Calgary    AB  Canada    T2P 5M5  +1 (403) 262-3443  +1 (403) 262-6712   \n",
      "3     Calgary    AB  Canada    T2P 5G3  +1 (403) 263-4423  +1 (403) 263-4289   \n",
      "4     Calgary    AB  Canada    T3B 1Y7   1 (780) 836-9987   1 (780) 836-9543   \n",
      "5     Calgary    AB  Canada    T3B 0C5  +1 (403) 246-9887  +1 (403) 246-9899   \n",
      "6  Lethbridge    AB  Canada    T1K 5N8  +1 (403) 456-9986  +1 (403) 456-8485   \n",
      "7  Lethbridge    AB  Canada    T1H 1Y8  +1 (403) 467-3351  +1 (403) 467-8772   \n",
      "\n",
      "                      Email  \n",
      "0    andrew@chinookcorp.com  \n",
      "1     nancy@chinookcorp.com  \n",
      "2      jane@chinookcorp.com  \n",
      "3  margaret@chinookcorp.com  \n",
      "4     steve@chinookcorp.com  \n",
      "5   michael@chinookcorp.com  \n",
      "6    robert@chinookcorp.com  \n",
      "7     laura@chinookcorp.com  \n"
     ]
    }
   ],
   "source": [
    "df = get_employees_v2(conn, 'Employees')\n",
    "print(df)"
   ]
  },
  {
   "cell_type": "code",
   "execution_count": 41,
   "metadata": {},
   "outputs": [
    {
     "name": "stdout",
     "output_type": "stream",
     "text": [
      "   EmployeeId  LastName FirstName                Title  ReportsTo  \\\n",
      "0           1     Adams    Andrew      General Manager        NaN   \n",
      "1           2   Edwards     Nancy        Sales Manager        1.0   \n",
      "2           3   Peacock      Jane  Sales Support Agent        2.0   \n",
      "3           4      Park  Margaret  Sales Support Agent        2.0   \n",
      "4           5   Johnson     Steve  Sales Support Agent        2.0   \n",
      "5           6  Mitchell   Michael           IT Manager        1.0   \n",
      "6           7      King    Robert             IT Staff        6.0   \n",
      "7           8  Callahan     Laura             IT Staff        6.0   \n",
      "\n",
      "             BirthDate             HireDate                      Address  \\\n",
      "0  1962-02-18 00:00:00  2002-08-14 00:00:00          11120 Jasper Ave NW   \n",
      "1  1958-12-08 00:00:00  2002-05-01 00:00:00                 825 8 Ave SW   \n",
      "2  1973-08-29 00:00:00  2002-04-01 00:00:00                1111 6 Ave SW   \n",
      "3  1947-09-19 00:00:00  2003-05-03 00:00:00             683 10 Street SW   \n",
      "4  1965-03-03 00:00:00  2003-10-17 00:00:00                 7727B 41 Ave   \n",
      "5  1973-07-01 00:00:00  2003-10-17 00:00:00         5827 Bowness Road NW   \n",
      "6  1970-05-29 00:00:00  2004-01-02 00:00:00  590 Columbia Boulevard West   \n",
      "7  1968-01-09 00:00:00  2004-03-04 00:00:00                  923 7 ST NW   \n",
      "\n",
      "         City State Country PostalCode              Phone                Fax  \\\n",
      "0    Edmonton    AB  Canada    T5K 2N1  +1 (780) 428-9482  +1 (780) 428-3457   \n",
      "1     Calgary    AB  Canada    T2P 2T3  +1 (403) 262-3443  +1 (403) 262-3322   \n",
      "2     Calgary    AB  Canada    T2P 5M5  +1 (403) 262-3443  +1 (403) 262-6712   \n",
      "3     Calgary    AB  Canada    T2P 5G3  +1 (403) 263-4423  +1 (403) 263-4289   \n",
      "4     Calgary    AB  Canada    T3B 1Y7   1 (780) 836-9987   1 (780) 836-9543   \n",
      "5     Calgary    AB  Canada    T3B 0C5  +1 (403) 246-9887  +1 (403) 246-9899   \n",
      "6  Lethbridge    AB  Canada    T1K 5N8  +1 (403) 456-9986  +1 (403) 456-8485   \n",
      "7  Lethbridge    AB  Canada    T1H 1Y8  +1 (403) 467-3351  +1 (403) 467-8772   \n",
      "\n",
      "                      Email  \n",
      "0    andrew@chinookcorp.com  \n",
      "1     nancy@chinookcorp.com  \n",
      "2      jane@chinookcorp.com  \n",
      "3  margaret@chinookcorp.com  \n",
      "4     steve@chinookcorp.com  \n",
      "5   michael@chinookcorp.com  \n",
      "6    robert@chinookcorp.com  \n",
      "7     laura@chinookcorp.com  \n"
     ]
    }
   ],
   "source": [
    "column_names, rows = get_employees_v3(conn, 'Employees')\n",
    "df = pd.DataFrame(rows, columns=column_names)\n",
    "print(df)"
   ]
  },
  {
   "cell_type": "code",
   "execution_count": 33,
   "metadata": {},
   "outputs": [
    {
     "name": "stdout",
     "output_type": "stream",
     "text": [
      "[(8,)]\n"
     ]
    }
   ],
   "source": [
    "count = get_records_count(conn,'Employees')\n",
    "print(count)"
   ]
  },
  {
   "cell_type": "code",
   "execution_count": 58,
   "metadata": {},
   "outputs": [
    {
     "name": "stdout",
     "output_type": "stream",
     "text": [
      "               name\n",
      "0            albums\n",
      "1   sqlite_sequence\n",
      "2           artists\n",
      "3         customers\n",
      "4         employees\n",
      "5            genres\n",
      "6          invoices\n",
      "7     invoice_items\n",
      "8       media_types\n",
      "9         playlists\n",
      "10   playlist_track\n",
      "11           tracks\n",
      "12     sqlite_stat1\n"
     ]
    }
   ],
   "source": [
    "# 0\n",
    "conn = sqlite3.connect('chinook.db')\n",
    "sql_query = \"SELECT name FROM sqlite_master WHERE type='table'\"\n",
    "\n",
    "df = pd.read_sql_query(sql_query, conn)\n",
    "print(df)"
   ]
  },
  {
   "cell_type": "code",
   "execution_count": 46,
   "metadata": {},
   "outputs": [
    {
     "name": "stdout",
     "output_type": "stream",
     "text": [
      "   AlbumId                                  Title  ArtistId\n",
      "0        1  For Those About To Rock We Salute You         1\n",
      "1        2                      Balls to the Wall         2\n",
      "2        3                      Restless and Wild         2\n",
      "3        4                      Let There Be Rock         1\n",
      "4        5                               Big Ones         3\n",
      "5        6                     Jagged Little Pill         4\n",
      "6        7                               Facelift         5\n",
      "7        8                         Warner 25 Anos         6\n",
      "8        9         Plays Metallica By Four Cellos         7\n",
      "9       10                             Audioslave         8\n"
     ]
    }
   ],
   "source": [
    "#1 \n",
    "conn = sqlite3.connect('chinook.db')\n",
    "sql_query = \"SELECT * FROM Albums LIMIT 10;\"\n",
    "\n",
    "# cursor.execute(sql_query)\n",
    "\n",
    "# results = cursor.fetchall()\n",
    "\n",
    "# for row in results:\n",
    "#     print(row)\n",
    "\n",
    "df = pd.read_sql_query(sql_query, conn)\n",
    "print(df)\n",
    "conn.close()"
   ]
  },
  {
   "cell_type": "code",
   "execution_count": 49,
   "metadata": {},
   "outputs": [
    {
     "name": "stdout",
     "output_type": "stream",
     "text": [
      "   COUNT(*)\n",
      "0         8\n"
     ]
    }
   ],
   "source": [
    "# 2\n",
    "conn = sqlite3.connect('chinook.db')\n",
    "sql_query = \"SELECT COUNT(*) FROM Employees\"\n",
    "\n",
    "df = pd.read_sql_query(sql_query, conn)\n",
    "print(df)"
   ]
  },
  {
   "cell_type": "code",
   "execution_count": 50,
   "metadata": {},
   "outputs": [
    {
     "name": "stdout",
     "output_type": "stream",
     "text": [
      "   EmployeeId  LastName FirstName                Title  ReportsTo  \\\n",
      "0           3   Peacock      Jane  Sales Support Agent        2.0   \n",
      "1           4      Park  Margaret  Sales Support Agent        2.0   \n",
      "2           6  Mitchell   Michael           IT Manager        1.0   \n",
      "3           7      King    Robert             IT Staff        6.0   \n",
      "4           5   Johnson     Steve  Sales Support Agent        2.0   \n",
      "5           2   Edwards     Nancy        Sales Manager        1.0   \n",
      "6           8  Callahan     Laura             IT Staff        6.0   \n",
      "7           1     Adams    Andrew      General Manager        NaN   \n",
      "\n",
      "             BirthDate             HireDate                      Address  \\\n",
      "0  1973-08-29 00:00:00  2002-04-01 00:00:00                1111 6 Ave SW   \n",
      "1  1947-09-19 00:00:00  2003-05-03 00:00:00             683 10 Street SW   \n",
      "2  1973-07-01 00:00:00  2003-10-17 00:00:00         5827 Bowness Road NW   \n",
      "3  1970-05-29 00:00:00  2004-01-02 00:00:00  590 Columbia Boulevard West   \n",
      "4  1965-03-03 00:00:00  2003-10-17 00:00:00                 7727B 41 Ave   \n",
      "5  1958-12-08 00:00:00  2002-05-01 00:00:00                 825 8 Ave SW   \n",
      "6  1968-01-09 00:00:00  2004-03-04 00:00:00                  923 7 ST NW   \n",
      "7  1962-02-18 00:00:00  2002-08-14 00:00:00          11120 Jasper Ave NW   \n",
      "\n",
      "         City State Country PostalCode              Phone                Fax  \\\n",
      "0     Calgary    AB  Canada    T2P 5M5  +1 (403) 262-3443  +1 (403) 262-6712   \n",
      "1     Calgary    AB  Canada    T2P 5G3  +1 (403) 263-4423  +1 (403) 263-4289   \n",
      "2     Calgary    AB  Canada    T3B 0C5  +1 (403) 246-9887  +1 (403) 246-9899   \n",
      "3  Lethbridge    AB  Canada    T1K 5N8  +1 (403) 456-9986  +1 (403) 456-8485   \n",
      "4     Calgary    AB  Canada    T3B 1Y7   1 (780) 836-9987   1 (780) 836-9543   \n",
      "5     Calgary    AB  Canada    T2P 2T3  +1 (403) 262-3443  +1 (403) 262-3322   \n",
      "6  Lethbridge    AB  Canada    T1H 1Y8  +1 (403) 467-3351  +1 (403) 467-8772   \n",
      "7    Edmonton    AB  Canada    T5K 2N1  +1 (780) 428-9482  +1 (780) 428-3457   \n",
      "\n",
      "                      Email  \n",
      "0      jane@chinookcorp.com  \n",
      "1  margaret@chinookcorp.com  \n",
      "2   michael@chinookcorp.com  \n",
      "3    robert@chinookcorp.com  \n",
      "4     steve@chinookcorp.com  \n",
      "5     nancy@chinookcorp.com  \n",
      "6     laura@chinookcorp.com  \n",
      "7    andrew@chinookcorp.com  \n"
     ]
    }
   ],
   "source": [
    "# 3\n",
    "conn = sqlite3.connect('chinook.db')\n",
    "query = \"SELECT * FROM Employees ORDER BY LastName DESC\";\n",
    "df = pd.read_sql_query(query, conn)\n",
    "print(df)"
   ]
  },
  {
   "cell_type": "code",
   "execution_count": 52,
   "metadata": {},
   "outputs": [
    {
     "name": "stdout",
     "output_type": "stream",
     "text": [
      "         City  COUNT(*)\n",
      "0     Calgary         5\n",
      "1    Edmonton         1\n",
      "2  Lethbridge         2\n"
     ]
    }
   ],
   "source": [
    "# 4\n",
    "conn = sqlite3.connect('chinook.db')\n",
    "query = \"SELECT City, COUNT(*) From Employees GROUP BY City\";\n",
    "df = pd.read_sql_query(query, conn)\n",
    "print(df)"
   ]
  },
  {
   "cell_type": "code",
   "execution_count": 55,
   "metadata": {},
   "outputs": [
    {
     "name": "stdout",
     "output_type": "stream",
     "text": [
      "   EmployeeId LastName FirstName                Title  ReportsTo  \\\n",
      "0           3  Peacock      Jane  Sales Support Agent          2   \n",
      "1           4     Park  Margaret  Sales Support Agent          2   \n",
      "\n",
      "             BirthDate             HireDate           Address     City State  \\\n",
      "0  1973-08-29 00:00:00  2002-04-01 00:00:00     1111 6 Ave SW  Calgary    AB   \n",
      "1  1947-09-19 00:00:00  2003-05-03 00:00:00  683 10 Street SW  Calgary    AB   \n",
      "\n",
      "  Country PostalCode              Phone                Fax  \\\n",
      "0  Canada    T2P 5M5  +1 (403) 262-3443  +1 (403) 262-6712   \n",
      "1  Canada    T2P 5G3  +1 (403) 263-4423  +1 (403) 263-4289   \n",
      "\n",
      "                      Email  \n",
      "0      jane@chinookcorp.com  \n",
      "1  margaret@chinookcorp.com  \n"
     ]
    }
   ],
   "source": [
    "# 5\n",
    "conn = sqlite3.connect('chinook.db')\n",
    "query = \"SELECT * From Employees WHERE LastName LIKE 'P%'\";\n",
    "df = pd.read_sql_query(query, conn)\n",
    "print(df)"
   ]
  },
  {
   "cell_type": "code",
   "execution_count": null,
   "metadata": {},
   "outputs": [],
   "source": [
    "# 6\n",
    "conn = sqlite3.connect('chinook.db')\n",
    "query = \"SELECT Employees.FirstName FROM Employees e INNER JOIN Departments d ON e.EmployeeId\";\n",
    "df = pd.read_sql_query(query, conn)\n",
    "print(df)"
   ]
  }
 ],
 "metadata": {
  "kernelspec": {
   "display_name": "base",
   "language": "python",
   "name": "python3"
  },
  "language_info": {
   "codemirror_mode": {
    "name": "ipython",
    "version": 3
   },
   "file_extension": ".py",
   "mimetype": "text/x-python",
   "name": "python",
   "nbconvert_exporter": "python",
   "pygments_lexer": "ipython3",
   "version": "3.8.8"
  },
  "orig_nbformat": 4
 },
 "nbformat": 4,
 "nbformat_minor": 2
}
